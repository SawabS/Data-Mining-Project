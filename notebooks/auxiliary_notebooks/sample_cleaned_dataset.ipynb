{
 "cells": [
  {
   "cell_type": "code",
   "execution_count": 1,
   "id": "37be7630-82b6-402e-997b-a156297d0d7f",
   "metadata": {},
   "outputs": [],
   "source": [
    "import pandas as pd\n",
    "import numpy as np"
   ]
  },
  {
   "cell_type": "code",
   "execution_count": 2,
   "id": "bcfd59af-6c05-40af-90a5-c877a22d1d59",
   "metadata": {},
   "outputs": [
    {
     "name": "stdout",
     "output_type": "stream",
     "text": [
      "Original dataset shape: (6979258, 47)\n",
      "Original size on RAM: 8.90 GB\n"
     ]
    }
   ],
   "source": [
    "df_original = pd.read_csv(r\"C:\\Users\\LENOVO LEGION\\Desktop\\Folders\\AUK - MSc in AI\\Fall 2025\\Data Mining\\Datasets\\US_Accidents_Cleaned.csv\")\n",
    "\n",
    "print(f\"Original dataset shape: {df_original.shape}\")\n",
    "print(f\"Original size on RAM: {df_original.memory_usage(deep=True).sum() / (1024**3):.2f} GB\")"
   ]
  },
  {
   "cell_type": "code",
   "execution_count": 3,
   "id": "856a8230-96a2-4ab8-987f-3b6eaedc2ba8",
   "metadata": {},
   "outputs": [
    {
     "name": "stdout",
     "output_type": "stream",
     "text": [
      "Sample dataset shape: (5000, 47)\n"
     ]
    }
   ],
   "source": [
    "# Sampling\n",
    "df_sample = df_original.sample(n=5000, random_state=42)\n",
    "\n",
    "# Index reset\n",
    "df_sample = df_sample.reset_index(drop=True)\n",
    "\n",
    "# Shape of the sample dataset\n",
    "print(f\"Sample dataset shape: {df_sample.shape}\")"
   ]
  },
  {
   "cell_type": "code",
   "execution_count": 4,
   "id": "f17bcc23-82dd-4dcb-a69f-8b2183a247fd",
   "metadata": {},
   "outputs": [
    {
     "name": "stdout",
     "output_type": "stream",
     "text": [
      "Cleaned sample saved into /data/processed directory.\n"
     ]
    }
   ],
   "source": [
    "df_sample.to_csv(r\"C:\\Users\\LENOVO LEGION\\Desktop\\Data-Mining-Project\\data\\processed\\US_Accidents_Cleaned.csv\", index=False)\n",
    "print(\"Cleaned sample saved into /data/processed directory.\")"
   ]
  }
 ],
 "metadata": {
  "kernelspec": {
   "display_name": "Python 3 (ipykernel)",
   "language": "python",
   "name": "python3"
  },
  "language_info": {
   "codemirror_mode": {
    "name": "ipython",
    "version": 3
   },
   "file_extension": ".py",
   "mimetype": "text/x-python",
   "name": "python",
   "nbconvert_exporter": "python",
   "pygments_lexer": "ipython3",
   "version": "3.13.7"
  }
 },
 "nbformat": 4,
 "nbformat_minor": 5
}
