{
 "cells": [
  {
   "cell_type": "markdown",
   "id": "8c475b7b-2b78-4985-9548-3024b520eed0",
   "metadata": {},
   "source": [
    "### Notebook Purpose\n",
    "\n",
    "This notebook is for converting the **original dataset** (size: **2.84 GB**, dimensions: **7.7M × 46**) into a **smaller dataset of 5,000 rows**.  \n",
    "The reduced sample is created to ensure it can be **uploaded to GitHub**."
   ]
  },
  {
   "cell_type": "code",
   "execution_count": 1,
   "id": "b77eea1a-7471-42f2-bbbb-074a04bdd579",
   "metadata": {},
   "outputs": [],
   "source": [
    "import pandas as pd\n",
    "import numpy as np"
   ]
  },
  {
   "cell_type": "markdown",
   "id": "cad4c30f-38b2-42ea-af4f-91c3f66ee15b",
   "metadata": {
    "jp-MarkdownHeadingCollapsed": true
   },
   "source": [
    "### Loading the RAW dataset"
   ]
  },
  {
   "cell_type": "code",
   "execution_count": 5,
   "id": "e365ab9a-98fb-49cc-b517-8e617282f3e5",
   "metadata": {},
   "outputs": [
    {
     "name": "stdout",
     "output_type": "stream",
     "text": [
      "Original dataset shape: (7728394, 46)\n",
      "Original size on RAM: 9.47 GB\n"
     ]
    }
   ],
   "source": [
    "df_original = pd.read_csv(r\"C:\\Users\\LENOVO LEGION\\Desktop\\Folders\\AUK - MSc in AI\\Fall 2025\\Data Mining\\Datasets\\US_Accidents_March23.csv\")\n",
    "\n",
    "print(f\"Original dataset shape: {df_original.shape}\")\n",
    "print(f\"Original size on RAM: {df_original.memory_usage(deep=True).sum() / (1024**3):.2f} GB\")"
   ]
  },
  {
   "cell_type": "markdown",
   "id": "9dcadbea-5ded-4535-b862-2bf6f9800e3c",
   "metadata": {
    "jp-MarkdownHeadingCollapsed": true
   },
   "source": [
    "### Sampling the dataset"
   ]
  },
  {
   "cell_type": "code",
   "execution_count": 7,
   "id": "4e64fe54-450b-4cef-af05-fa15bee60e73",
   "metadata": {},
   "outputs": [
    {
     "name": "stdout",
     "output_type": "stream",
     "text": [
      "Sample dataset shape: (5000, 46)\n"
     ]
    }
   ],
   "source": [
    "# Sampling\n",
    "df_sample = df_original.sample(n=5000, random_state=42)\n",
    "\n",
    "# Index reset\n",
    "df_sample = df_sample.reset_index(drop=True)\n",
    "\n",
    "# Shape of the sample dataset\n",
    "print(f\"Sample dataset shape: {df_sample.shape}\")"
   ]
  },
  {
   "cell_type": "markdown",
   "id": "4fe819d5-1eb1-44a0-a95d-58e3ed12c3c3",
   "metadata": {
    "jp-MarkdownHeadingCollapsed": true
   },
   "source": [
    "### Saving the sampled dataset\n",
    "**Path:** Data-Mining-Project/data/raw/"
   ]
  },
  {
   "cell_type": "code",
   "execution_count": null,
   "id": "a94f3505-285d-4982-9f60-8d8cb4c62c3a",
   "metadata": {},
   "outputs": [],
   "source": [
    "df_sample.to_csv(r\"C:\\Users\\LENOVO LEGION\\Desktop\\Data-Mining-Project\\data\\raw\\sample_dataset_5k.csv\", index=False)"
   ]
  }
 ],
 "metadata": {
  "kernelspec": {
   "display_name": "Python [conda env:.conda-DM]",
   "language": "python",
   "name": "conda-env-.conda-DM-py"
  },
  "language_info": {
   "codemirror_mode": {
    "name": "ipython",
    "version": 3
   },
   "file_extension": ".py",
   "mimetype": "text/x-python",
   "name": "python",
   "nbconvert_exporter": "python",
   "pygments_lexer": "ipython3",
   "version": "3.13.7"
  }
 },
 "nbformat": 4,
 "nbformat_minor": 5
}
